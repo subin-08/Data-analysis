{
 "cells": [
  {
   "cell_type": "markdown",
   "metadata": {},
   "source": [
    "## Exploratory data analysis of English Premier League Players"
   ]
  },
  {
   "cell_type": "markdown",
   "metadata": {},
   "source": [
    "As a dedicated follower of the Premier League and a recent graduate of data analysis, I've always envisioned using my newfound skills to explore the world of football. This project fulfills that dream, allowing me to analyze datasets and uncover fascinating trends within the game I love. Football, and especially the Premier League, has captivated me for years. Now, with my data analysis training, I'm able to combine my passion with my professional skills. This project is a testament to that, offering a chance to delve deeper into the captivating world of football through the lens of data analysis."
   ]
  },
  {
   "cell_type": "markdown",
   "metadata": {},
   "source": [
    "### Objectives:\n",
    "#### Exploratory data anlysis on English Premier League players dataset.\n",
    "#### Apply data visualization techniques using visualization library."
   ]
  },
  {
   "cell_type": "markdown",
   "metadata": {},
   "source": [
    "Importing necessary libraries"
   ]
  },
  {
   "cell_type": "code",
   "execution_count": 1,
   "metadata": {},
   "outputs": [],
   "source": [
    "import pandas as pd\n",
    "import numpy as np\n",
    "import seaborn as sns\n",
    "import matplotlib.pyplot as plt"
   ]
  },
  {
   "cell_type": "markdown",
   "metadata": {},
   "source": [
    "Loading dataset into the dataframe"
   ]
  },
  {
   "cell_type": "code",
   "execution_count": 2,
   "metadata": {},
   "outputs": [
    {
     "data": {
      "text/html": [
       "<div>\n",
       "<style scoped>\n",
       "    .dataframe tbody tr th:only-of-type {\n",
       "        vertical-align: middle;\n",
       "    }\n",
       "\n",
       "    .dataframe tbody tr th {\n",
       "        vertical-align: top;\n",
       "    }\n",
       "\n",
       "    .dataframe thead th {\n",
       "        text-align: right;\n",
       "    }\n",
       "</style>\n",
       "<table border=\"1\" class=\"dataframe\">\n",
       "  <thead>\n",
       "    <tr style=\"text-align: right;\">\n",
       "      <th></th>\n",
       "      <th>Name</th>\n",
       "      <th>Jersey Number</th>\n",
       "      <th>Club</th>\n",
       "      <th>Position</th>\n",
       "      <th>Nationality</th>\n",
       "      <th>Age</th>\n",
       "      <th>Appearances</th>\n",
       "      <th>Wins</th>\n",
       "      <th>Losses</th>\n",
       "      <th>Goals</th>\n",
       "      <th>...</th>\n",
       "      <th>Punches</th>\n",
       "      <th>High Claims</th>\n",
       "      <th>Catches</th>\n",
       "      <th>Sweeper clearances</th>\n",
       "      <th>Throw outs</th>\n",
       "      <th>Goal Kicks</th>\n",
       "      <th>Yellow cards</th>\n",
       "      <th>Red cards</th>\n",
       "      <th>Fouls</th>\n",
       "      <th>Offsides</th>\n",
       "    </tr>\n",
       "  </thead>\n",
       "  <tbody>\n",
       "    <tr>\n",
       "      <th>0</th>\n",
       "      <td>Bernd Leno</td>\n",
       "      <td>1.0</td>\n",
       "      <td>Arsenal</td>\n",
       "      <td>Goalkeeper</td>\n",
       "      <td>Germany</td>\n",
       "      <td>28.0</td>\n",
       "      <td>64</td>\n",
       "      <td>28</td>\n",
       "      <td>16</td>\n",
       "      <td>0</td>\n",
       "      <td>...</td>\n",
       "      <td>34.0</td>\n",
       "      <td>26.0</td>\n",
       "      <td>17.0</td>\n",
       "      <td>28.0</td>\n",
       "      <td>375.0</td>\n",
       "      <td>489.0</td>\n",
       "      <td>2</td>\n",
       "      <td>0</td>\n",
       "      <td>0</td>\n",
       "      <td>NaN</td>\n",
       "    </tr>\n",
       "    <tr>\n",
       "      <th>1</th>\n",
       "      <td>Matt Macey</td>\n",
       "      <td>33.0</td>\n",
       "      <td>Arsenal</td>\n",
       "      <td>Goalkeeper</td>\n",
       "      <td>England</td>\n",
       "      <td>26.0</td>\n",
       "      <td>0</td>\n",
       "      <td>0</td>\n",
       "      <td>0</td>\n",
       "      <td>0</td>\n",
       "      <td>...</td>\n",
       "      <td>0.0</td>\n",
       "      <td>0.0</td>\n",
       "      <td>0.0</td>\n",
       "      <td>0.0</td>\n",
       "      <td>0.0</td>\n",
       "      <td>0.0</td>\n",
       "      <td>0</td>\n",
       "      <td>0</td>\n",
       "      <td>0</td>\n",
       "      <td>NaN</td>\n",
       "    </tr>\n",
       "    <tr>\n",
       "      <th>2</th>\n",
       "      <td>Rúnar Alex Rúnarsson</td>\n",
       "      <td>13.0</td>\n",
       "      <td>Arsenal</td>\n",
       "      <td>Goalkeeper</td>\n",
       "      <td>Iceland</td>\n",
       "      <td>25.0</td>\n",
       "      <td>0</td>\n",
       "      <td>0</td>\n",
       "      <td>0</td>\n",
       "      <td>0</td>\n",
       "      <td>...</td>\n",
       "      <td>0.0</td>\n",
       "      <td>0.0</td>\n",
       "      <td>0.0</td>\n",
       "      <td>0.0</td>\n",
       "      <td>0.0</td>\n",
       "      <td>0.0</td>\n",
       "      <td>0</td>\n",
       "      <td>0</td>\n",
       "      <td>0</td>\n",
       "      <td>NaN</td>\n",
       "    </tr>\n",
       "    <tr>\n",
       "      <th>3</th>\n",
       "      <td>Héctor Bellerín</td>\n",
       "      <td>2.0</td>\n",
       "      <td>Arsenal</td>\n",
       "      <td>Defender</td>\n",
       "      <td>Spain</td>\n",
       "      <td>25.0</td>\n",
       "      <td>160</td>\n",
       "      <td>90</td>\n",
       "      <td>37</td>\n",
       "      <td>7</td>\n",
       "      <td>...</td>\n",
       "      <td>NaN</td>\n",
       "      <td>NaN</td>\n",
       "      <td>NaN</td>\n",
       "      <td>NaN</td>\n",
       "      <td>NaN</td>\n",
       "      <td>NaN</td>\n",
       "      <td>23</td>\n",
       "      <td>0</td>\n",
       "      <td>125</td>\n",
       "      <td>8.0</td>\n",
       "    </tr>\n",
       "    <tr>\n",
       "      <th>4</th>\n",
       "      <td>Kieran Tierney</td>\n",
       "      <td>3.0</td>\n",
       "      <td>Arsenal</td>\n",
       "      <td>Defender</td>\n",
       "      <td>Scotland</td>\n",
       "      <td>23.0</td>\n",
       "      <td>16</td>\n",
       "      <td>7</td>\n",
       "      <td>5</td>\n",
       "      <td>1</td>\n",
       "      <td>...</td>\n",
       "      <td>NaN</td>\n",
       "      <td>NaN</td>\n",
       "      <td>NaN</td>\n",
       "      <td>NaN</td>\n",
       "      <td>NaN</td>\n",
       "      <td>NaN</td>\n",
       "      <td>2</td>\n",
       "      <td>0</td>\n",
       "      <td>9</td>\n",
       "      <td>0.0</td>\n",
       "    </tr>\n",
       "  </tbody>\n",
       "</table>\n",
       "<p>5 rows × 59 columns</p>\n",
       "</div>"
      ],
      "text/plain": [
       "                   Name  Jersey Number     Club    Position Nationality   Age  \\\n",
       "0            Bernd Leno            1.0  Arsenal  Goalkeeper     Germany  28.0   \n",
       "1            Matt Macey           33.0  Arsenal  Goalkeeper     England  26.0   \n",
       "2  Rúnar Alex Rúnarsson           13.0  Arsenal  Goalkeeper     Iceland  25.0   \n",
       "3       Héctor Bellerín            2.0  Arsenal    Defender       Spain  25.0   \n",
       "4        Kieran Tierney            3.0  Arsenal    Defender    Scotland  23.0   \n",
       "\n",
       "   Appearances  Wins  Losses  Goals  ...  Punches  High Claims  Catches  \\\n",
       "0           64    28      16      0  ...     34.0         26.0     17.0   \n",
       "1            0     0       0      0  ...      0.0          0.0      0.0   \n",
       "2            0     0       0      0  ...      0.0          0.0      0.0   \n",
       "3          160    90      37      7  ...      NaN          NaN      NaN   \n",
       "4           16     7       5      1  ...      NaN          NaN      NaN   \n",
       "\n",
       "   Sweeper clearances  Throw outs  Goal Kicks  Yellow cards  Red cards Fouls  \\\n",
       "0                28.0       375.0       489.0             2          0     0   \n",
       "1                 0.0         0.0         0.0             0          0     0   \n",
       "2                 0.0         0.0         0.0             0          0     0   \n",
       "3                 NaN         NaN         NaN            23          0   125   \n",
       "4                 NaN         NaN         NaN             2          0     9   \n",
       "\n",
       "   Offsides  \n",
       "0       NaN  \n",
       "1       NaN  \n",
       "2       NaN  \n",
       "3       8.0  \n",
       "4       0.0  \n",
       "\n",
       "[5 rows x 59 columns]"
      ]
     },
     "execution_count": 2,
     "metadata": {},
     "output_type": "execute_result"
    }
   ],
   "source": [
    "df = pd.read_csv(r\"C:\\Users\\91813\\Dropbox\\PC\\Downloads\\premier league player.csv\", )\n",
    "df.head()"
   ]
  },
  {
   "cell_type": "code",
   "execution_count": 3,
   "metadata": {},
   "outputs": [
    {
     "name": "stdout",
     "output_type": "stream",
     "text": [
      "The shape of the data is (571, 59)\n",
      "The size of the data is 33689\n"
     ]
    }
   ],
   "source": [
    "print('The shape of the data is {}'.format(df.shape)) #defining the shape of the dataset\n",
    "print('The size of the data is {}'.format(df.size)) #defining the total size of the data"
   ]
  },
  {
   "cell_type": "code",
   "execution_count": 3,
   "metadata": {},
   "outputs": [
    {
     "data": {
      "text/plain": [
       "Index(['Name', 'Jersey Number', 'Club', 'Position', 'Nationality', 'Age',\n",
       "       'Appearances', 'Wins', 'Losses', 'Goals', 'Goals per match',\n",
       "       'Headed goals', 'Goals with right foot', 'Goals with left foot',\n",
       "       'Penalties scored', 'Freekicks scored', 'Shots', 'Shots on target',\n",
       "       'Shooting accuracy %', 'Hit woodwork', 'Big chances missed',\n",
       "       'Clean sheets', 'Goals conceded', 'Tackles', 'Tackle success %',\n",
       "       'Last man tackles', 'Blocked shots', 'Interceptions', 'Clearances',\n",
       "       'Headed Clearance', 'Clearances off line', 'Recoveries', 'Duels won',\n",
       "       'Duels lost', 'Successful 50/50s', 'Aerial battles won',\n",
       "       'Aerial battles lost', 'Own goals', 'Errors leading to goal', 'Assists',\n",
       "       'Passes', 'Passes per match', 'Big chances created', 'Crosses',\n",
       "       'Cross accuracy %', 'Through balls', 'Accurate long balls', 'Saves',\n",
       "       'Penalties saved', 'Punches', 'High Claims', 'Catches',\n",
       "       'Sweeper clearances', 'Throw outs', 'Goal Kicks', 'Yellow cards',\n",
       "       'Red cards', 'Fouls', 'Offsides'],\n",
       "      dtype='object')"
      ]
     },
     "execution_count": 3,
     "metadata": {},
     "output_type": "execute_result"
    }
   ],
   "source": [
    "#showcasing the list of columns\n",
    "df.columns"
   ]
  },
  {
   "cell_type": "code",
   "execution_count": 5,
   "metadata": {},
   "outputs": [],
   "source": [
    "numeric_data = df.drop(['Name', 'Club','Position', 'Nationality','Cross accuracy %','Tackle success %','Shooting accuracy %'], axis=1)"
   ]
  },
  {
   "cell_type": "markdown",
   "metadata": {},
   "source": [
    "The first and foremost need to check if there is any null values in the dataset which will affect the analysis."
   ]
  },
  {
   "cell_type": "code",
   "execution_count": 6,
   "metadata": {},
   "outputs": [
    {
     "data": {
      "text/html": [
       "<div>\n",
       "<style scoped>\n",
       "    .dataframe tbody tr th:only-of-type {\n",
       "        vertical-align: middle;\n",
       "    }\n",
       "\n",
       "    .dataframe tbody tr th {\n",
       "        vertical-align: top;\n",
       "    }\n",
       "\n",
       "    .dataframe thead th {\n",
       "        text-align: right;\n",
       "    }\n",
       "</style>\n",
       "<table border=\"1\" class=\"dataframe\">\n",
       "  <thead>\n",
       "    <tr style=\"text-align: right;\">\n",
       "      <th></th>\n",
       "      <th>Name</th>\n",
       "      <th>Jersey Number</th>\n",
       "      <th>Club</th>\n",
       "      <th>Position</th>\n",
       "      <th>Nationality</th>\n",
       "      <th>Age</th>\n",
       "      <th>Appearances</th>\n",
       "      <th>Wins</th>\n",
       "      <th>Losses</th>\n",
       "      <th>Goals</th>\n",
       "      <th>...</th>\n",
       "      <th>Punches</th>\n",
       "      <th>High Claims</th>\n",
       "      <th>Catches</th>\n",
       "      <th>Sweeper clearances</th>\n",
       "      <th>Throw outs</th>\n",
       "      <th>Goal Kicks</th>\n",
       "      <th>Yellow cards</th>\n",
       "      <th>Red cards</th>\n",
       "      <th>Fouls</th>\n",
       "      <th>Offsides</th>\n",
       "    </tr>\n",
       "  </thead>\n",
       "  <tbody>\n",
       "    <tr>\n",
       "      <th>0</th>\n",
       "      <td>False</td>\n",
       "      <td>False</td>\n",
       "      <td>False</td>\n",
       "      <td>False</td>\n",
       "      <td>False</td>\n",
       "      <td>False</td>\n",
       "      <td>False</td>\n",
       "      <td>False</td>\n",
       "      <td>False</td>\n",
       "      <td>False</td>\n",
       "      <td>...</td>\n",
       "      <td>False</td>\n",
       "      <td>False</td>\n",
       "      <td>False</td>\n",
       "      <td>False</td>\n",
       "      <td>False</td>\n",
       "      <td>False</td>\n",
       "      <td>False</td>\n",
       "      <td>False</td>\n",
       "      <td>False</td>\n",
       "      <td>True</td>\n",
       "    </tr>\n",
       "    <tr>\n",
       "      <th>1</th>\n",
       "      <td>False</td>\n",
       "      <td>False</td>\n",
       "      <td>False</td>\n",
       "      <td>False</td>\n",
       "      <td>False</td>\n",
       "      <td>False</td>\n",
       "      <td>False</td>\n",
       "      <td>False</td>\n",
       "      <td>False</td>\n",
       "      <td>False</td>\n",
       "      <td>...</td>\n",
       "      <td>False</td>\n",
       "      <td>False</td>\n",
       "      <td>False</td>\n",
       "      <td>False</td>\n",
       "      <td>False</td>\n",
       "      <td>False</td>\n",
       "      <td>False</td>\n",
       "      <td>False</td>\n",
       "      <td>False</td>\n",
       "      <td>True</td>\n",
       "    </tr>\n",
       "    <tr>\n",
       "      <th>2</th>\n",
       "      <td>False</td>\n",
       "      <td>False</td>\n",
       "      <td>False</td>\n",
       "      <td>False</td>\n",
       "      <td>False</td>\n",
       "      <td>False</td>\n",
       "      <td>False</td>\n",
       "      <td>False</td>\n",
       "      <td>False</td>\n",
       "      <td>False</td>\n",
       "      <td>...</td>\n",
       "      <td>False</td>\n",
       "      <td>False</td>\n",
       "      <td>False</td>\n",
       "      <td>False</td>\n",
       "      <td>False</td>\n",
       "      <td>False</td>\n",
       "      <td>False</td>\n",
       "      <td>False</td>\n",
       "      <td>False</td>\n",
       "      <td>True</td>\n",
       "    </tr>\n",
       "    <tr>\n",
       "      <th>3</th>\n",
       "      <td>False</td>\n",
       "      <td>False</td>\n",
       "      <td>False</td>\n",
       "      <td>False</td>\n",
       "      <td>False</td>\n",
       "      <td>False</td>\n",
       "      <td>False</td>\n",
       "      <td>False</td>\n",
       "      <td>False</td>\n",
       "      <td>False</td>\n",
       "      <td>...</td>\n",
       "      <td>True</td>\n",
       "      <td>True</td>\n",
       "      <td>True</td>\n",
       "      <td>True</td>\n",
       "      <td>True</td>\n",
       "      <td>True</td>\n",
       "      <td>False</td>\n",
       "      <td>False</td>\n",
       "      <td>False</td>\n",
       "      <td>False</td>\n",
       "    </tr>\n",
       "    <tr>\n",
       "      <th>4</th>\n",
       "      <td>False</td>\n",
       "      <td>False</td>\n",
       "      <td>False</td>\n",
       "      <td>False</td>\n",
       "      <td>False</td>\n",
       "      <td>False</td>\n",
       "      <td>False</td>\n",
       "      <td>False</td>\n",
       "      <td>False</td>\n",
       "      <td>False</td>\n",
       "      <td>...</td>\n",
       "      <td>True</td>\n",
       "      <td>True</td>\n",
       "      <td>True</td>\n",
       "      <td>True</td>\n",
       "      <td>True</td>\n",
       "      <td>True</td>\n",
       "      <td>False</td>\n",
       "      <td>False</td>\n",
       "      <td>False</td>\n",
       "      <td>False</td>\n",
       "    </tr>\n",
       "    <tr>\n",
       "      <th>...</th>\n",
       "      <td>...</td>\n",
       "      <td>...</td>\n",
       "      <td>...</td>\n",
       "      <td>...</td>\n",
       "      <td>...</td>\n",
       "      <td>...</td>\n",
       "      <td>...</td>\n",
       "      <td>...</td>\n",
       "      <td>...</td>\n",
       "      <td>...</td>\n",
       "      <td>...</td>\n",
       "      <td>...</td>\n",
       "      <td>...</td>\n",
       "      <td>...</td>\n",
       "      <td>...</td>\n",
       "      <td>...</td>\n",
       "      <td>...</td>\n",
       "      <td>...</td>\n",
       "      <td>...</td>\n",
       "      <td>...</td>\n",
       "      <td>...</td>\n",
       "    </tr>\n",
       "    <tr>\n",
       "      <th>566</th>\n",
       "      <td>False</td>\n",
       "      <td>False</td>\n",
       "      <td>False</td>\n",
       "      <td>False</td>\n",
       "      <td>False</td>\n",
       "      <td>False</td>\n",
       "      <td>False</td>\n",
       "      <td>False</td>\n",
       "      <td>False</td>\n",
       "      <td>False</td>\n",
       "      <td>...</td>\n",
       "      <td>True</td>\n",
       "      <td>True</td>\n",
       "      <td>True</td>\n",
       "      <td>True</td>\n",
       "      <td>True</td>\n",
       "      <td>True</td>\n",
       "      <td>False</td>\n",
       "      <td>False</td>\n",
       "      <td>False</td>\n",
       "      <td>False</td>\n",
       "    </tr>\n",
       "    <tr>\n",
       "      <th>567</th>\n",
       "      <td>False</td>\n",
       "      <td>False</td>\n",
       "      <td>False</td>\n",
       "      <td>False</td>\n",
       "      <td>False</td>\n",
       "      <td>False</td>\n",
       "      <td>False</td>\n",
       "      <td>False</td>\n",
       "      <td>False</td>\n",
       "      <td>False</td>\n",
       "      <td>...</td>\n",
       "      <td>True</td>\n",
       "      <td>True</td>\n",
       "      <td>True</td>\n",
       "      <td>True</td>\n",
       "      <td>True</td>\n",
       "      <td>True</td>\n",
       "      <td>False</td>\n",
       "      <td>False</td>\n",
       "      <td>False</td>\n",
       "      <td>False</td>\n",
       "    </tr>\n",
       "    <tr>\n",
       "      <th>568</th>\n",
       "      <td>False</td>\n",
       "      <td>False</td>\n",
       "      <td>False</td>\n",
       "      <td>False</td>\n",
       "      <td>False</td>\n",
       "      <td>False</td>\n",
       "      <td>False</td>\n",
       "      <td>False</td>\n",
       "      <td>False</td>\n",
       "      <td>False</td>\n",
       "      <td>...</td>\n",
       "      <td>True</td>\n",
       "      <td>True</td>\n",
       "      <td>True</td>\n",
       "      <td>True</td>\n",
       "      <td>True</td>\n",
       "      <td>True</td>\n",
       "      <td>False</td>\n",
       "      <td>False</td>\n",
       "      <td>False</td>\n",
       "      <td>False</td>\n",
       "    </tr>\n",
       "    <tr>\n",
       "      <th>569</th>\n",
       "      <td>False</td>\n",
       "      <td>False</td>\n",
       "      <td>False</td>\n",
       "      <td>False</td>\n",
       "      <td>False</td>\n",
       "      <td>False</td>\n",
       "      <td>False</td>\n",
       "      <td>False</td>\n",
       "      <td>False</td>\n",
       "      <td>False</td>\n",
       "      <td>...</td>\n",
       "      <td>True</td>\n",
       "      <td>True</td>\n",
       "      <td>True</td>\n",
       "      <td>True</td>\n",
       "      <td>True</td>\n",
       "      <td>True</td>\n",
       "      <td>False</td>\n",
       "      <td>False</td>\n",
       "      <td>False</td>\n",
       "      <td>False</td>\n",
       "    </tr>\n",
       "    <tr>\n",
       "      <th>570</th>\n",
       "      <td>False</td>\n",
       "      <td>False</td>\n",
       "      <td>False</td>\n",
       "      <td>False</td>\n",
       "      <td>False</td>\n",
       "      <td>False</td>\n",
       "      <td>False</td>\n",
       "      <td>False</td>\n",
       "      <td>False</td>\n",
       "      <td>False</td>\n",
       "      <td>...</td>\n",
       "      <td>True</td>\n",
       "      <td>True</td>\n",
       "      <td>True</td>\n",
       "      <td>True</td>\n",
       "      <td>True</td>\n",
       "      <td>True</td>\n",
       "      <td>False</td>\n",
       "      <td>False</td>\n",
       "      <td>False</td>\n",
       "      <td>False</td>\n",
       "    </tr>\n",
       "  </tbody>\n",
       "</table>\n",
       "<p>571 rows × 59 columns</p>\n",
       "</div>"
      ],
      "text/plain": [
       "      Name  Jersey Number   Club  Position  Nationality    Age  Appearances  \\\n",
       "0    False          False  False     False        False  False        False   \n",
       "1    False          False  False     False        False  False        False   \n",
       "2    False          False  False     False        False  False        False   \n",
       "3    False          False  False     False        False  False        False   \n",
       "4    False          False  False     False        False  False        False   \n",
       "..     ...            ...    ...       ...          ...    ...          ...   \n",
       "566  False          False  False     False        False  False        False   \n",
       "567  False          False  False     False        False  False        False   \n",
       "568  False          False  False     False        False  False        False   \n",
       "569  False          False  False     False        False  False        False   \n",
       "570  False          False  False     False        False  False        False   \n",
       "\n",
       "      Wins  Losses  Goals  ...  Punches  High Claims  Catches  \\\n",
       "0    False   False  False  ...    False        False    False   \n",
       "1    False   False  False  ...    False        False    False   \n",
       "2    False   False  False  ...    False        False    False   \n",
       "3    False   False  False  ...     True         True     True   \n",
       "4    False   False  False  ...     True         True     True   \n",
       "..     ...     ...    ...  ...      ...          ...      ...   \n",
       "566  False   False  False  ...     True         True     True   \n",
       "567  False   False  False  ...     True         True     True   \n",
       "568  False   False  False  ...     True         True     True   \n",
       "569  False   False  False  ...     True         True     True   \n",
       "570  False   False  False  ...     True         True     True   \n",
       "\n",
       "     Sweeper clearances  Throw outs  Goal Kicks  Yellow cards  Red cards  \\\n",
       "0                 False       False       False         False      False   \n",
       "1                 False       False       False         False      False   \n",
       "2                 False       False       False         False      False   \n",
       "3                  True        True        True         False      False   \n",
       "4                  True        True        True         False      False   \n",
       "..                  ...         ...         ...           ...        ...   \n",
       "566                True        True        True         False      False   \n",
       "567                True        True        True         False      False   \n",
       "568                True        True        True         False      False   \n",
       "569                True        True        True         False      False   \n",
       "570                True        True        True         False      False   \n",
       "\n",
       "     Fouls  Offsides  \n",
       "0    False      True  \n",
       "1    False      True  \n",
       "2    False      True  \n",
       "3    False     False  \n",
       "4    False     False  \n",
       "..     ...       ...  \n",
       "566  False     False  \n",
       "567  False     False  \n",
       "568  False     False  \n",
       "569  False     False  \n",
       "570  False     False  \n",
       "\n",
       "[571 rows x 59 columns]"
      ]
     },
     "execution_count": 6,
     "metadata": {},
     "output_type": "execute_result"
    }
   ],
   "source": [
    "df.isnull()"
   ]
  },
  {
   "cell_type": "markdown",
   "metadata": {},
   "source": [
    "i have found that there is null values in column Jersey Number, a rule in football is that a player should have a jersey number is he is playing for the team. There are around 8 people with no jersey number need to drop that column."
   ]
  },
  {
   "cell_type": "code",
   "execution_count": 7,
   "metadata": {},
   "outputs": [
    {
     "data": {
      "text/html": [
       "<div>\n",
       "<style scoped>\n",
       "    .dataframe tbody tr th:only-of-type {\n",
       "        vertical-align: middle;\n",
       "    }\n",
       "\n",
       "    .dataframe tbody tr th {\n",
       "        vertical-align: top;\n",
       "    }\n",
       "\n",
       "    .dataframe thead th {\n",
       "        text-align: right;\n",
       "    }\n",
       "</style>\n",
       "<table border=\"1\" class=\"dataframe\">\n",
       "  <thead>\n",
       "    <tr style=\"text-align: right;\">\n",
       "      <th></th>\n",
       "      <th>Name</th>\n",
       "      <th>Jersey Number</th>\n",
       "      <th>Club</th>\n",
       "      <th>Position</th>\n",
       "      <th>Nationality</th>\n",
       "      <th>Age</th>\n",
       "      <th>Appearances</th>\n",
       "      <th>Wins</th>\n",
       "      <th>Losses</th>\n",
       "      <th>Goals</th>\n",
       "      <th>...</th>\n",
       "      <th>Punches</th>\n",
       "      <th>High Claims</th>\n",
       "      <th>Catches</th>\n",
       "      <th>Sweeper clearances</th>\n",
       "      <th>Throw outs</th>\n",
       "      <th>Goal Kicks</th>\n",
       "      <th>Yellow cards</th>\n",
       "      <th>Red cards</th>\n",
       "      <th>Fouls</th>\n",
       "      <th>Offsides</th>\n",
       "    </tr>\n",
       "  </thead>\n",
       "  <tbody>\n",
       "    <tr>\n",
       "      <th>57</th>\n",
       "      <td>Bertrand Traoré</td>\n",
       "      <td>NaN</td>\n",
       "      <td>Aston-Villa</td>\n",
       "      <td>Forward</td>\n",
       "      <td>Burkina Faso</td>\n",
       "      <td>25.0</td>\n",
       "      <td>10</td>\n",
       "      <td>2</td>\n",
       "      <td>4</td>\n",
       "      <td>2</td>\n",
       "      <td>...</td>\n",
       "      <td>NaN</td>\n",
       "      <td>NaN</td>\n",
       "      <td>NaN</td>\n",
       "      <td>NaN</td>\n",
       "      <td>NaN</td>\n",
       "      <td>NaN</td>\n",
       "      <td>0</td>\n",
       "      <td>0</td>\n",
       "      <td>3</td>\n",
       "      <td>5.0</td>\n",
       "    </tr>\n",
       "    <tr>\n",
       "      <th>127</th>\n",
       "      <td>Juan Castillo</td>\n",
       "      <td>NaN</td>\n",
       "      <td>Chelsea</td>\n",
       "      <td>Defender</td>\n",
       "      <td>Netherlands</td>\n",
       "      <td>20.0</td>\n",
       "      <td>0</td>\n",
       "      <td>0</td>\n",
       "      <td>0</td>\n",
       "      <td>0</td>\n",
       "      <td>...</td>\n",
       "      <td>NaN</td>\n",
       "      <td>NaN</td>\n",
       "      <td>NaN</td>\n",
       "      <td>NaN</td>\n",
       "      <td>NaN</td>\n",
       "      <td>NaN</td>\n",
       "      <td>0</td>\n",
       "      <td>0</td>\n",
       "      <td>0</td>\n",
       "      <td>0.0</td>\n",
       "    </tr>\n",
       "    <tr>\n",
       "      <th>145</th>\n",
       "      <td>Nathan Ferguson</td>\n",
       "      <td>NaN</td>\n",
       "      <td>Crystal-Palace</td>\n",
       "      <td>Defender</td>\n",
       "      <td>England</td>\n",
       "      <td>19.0</td>\n",
       "      <td>0</td>\n",
       "      <td>0</td>\n",
       "      <td>0</td>\n",
       "      <td>0</td>\n",
       "      <td>...</td>\n",
       "      <td>NaN</td>\n",
       "      <td>NaN</td>\n",
       "      <td>NaN</td>\n",
       "      <td>NaN</td>\n",
       "      <td>NaN</td>\n",
       "      <td>NaN</td>\n",
       "      <td>0</td>\n",
       "      <td>0</td>\n",
       "      <td>0</td>\n",
       "      <td>0.0</td>\n",
       "    </tr>\n",
       "    <tr>\n",
       "      <th>280</th>\n",
       "      <td>Cengiz Ünder</td>\n",
       "      <td>NaN</td>\n",
       "      <td>Leicester-City</td>\n",
       "      <td>Midfielder</td>\n",
       "      <td>Turkey</td>\n",
       "      <td>23.0</td>\n",
       "      <td>0</td>\n",
       "      <td>0</td>\n",
       "      <td>0</td>\n",
       "      <td>0</td>\n",
       "      <td>...</td>\n",
       "      <td>NaN</td>\n",
       "      <td>NaN</td>\n",
       "      <td>NaN</td>\n",
       "      <td>NaN</td>\n",
       "      <td>NaN</td>\n",
       "      <td>NaN</td>\n",
       "      <td>0</td>\n",
       "      <td>0</td>\n",
       "      <td>0</td>\n",
       "      <td>0.0</td>\n",
       "    </tr>\n",
       "    <tr>\n",
       "      <th>322</th>\n",
       "      <td>Zack Steffen</td>\n",
       "      <td>NaN</td>\n",
       "      <td>Manchester-City</td>\n",
       "      <td>Goalkeeper</td>\n",
       "      <td>United States</td>\n",
       "      <td>25.0</td>\n",
       "      <td>0</td>\n",
       "      <td>0</td>\n",
       "      <td>0</td>\n",
       "      <td>0</td>\n",
       "      <td>...</td>\n",
       "      <td>0.0</td>\n",
       "      <td>0.0</td>\n",
       "      <td>0.0</td>\n",
       "      <td>0.0</td>\n",
       "      <td>0.0</td>\n",
       "      <td>0.0</td>\n",
       "      <td>0</td>\n",
       "      <td>0</td>\n",
       "      <td>0</td>\n",
       "      <td>NaN</td>\n",
       "    </tr>\n",
       "    <tr>\n",
       "      <th>332</th>\n",
       "      <td>Patrick Roberts</td>\n",
       "      <td>NaN</td>\n",
       "      <td>Manchester-City</td>\n",
       "      <td>Midfielder</td>\n",
       "      <td>England</td>\n",
       "      <td>23.0</td>\n",
       "      <td>6</td>\n",
       "      <td>0</td>\n",
       "      <td>6</td>\n",
       "      <td>0</td>\n",
       "      <td>...</td>\n",
       "      <td>NaN</td>\n",
       "      <td>NaN</td>\n",
       "      <td>NaN</td>\n",
       "      <td>NaN</td>\n",
       "      <td>NaN</td>\n",
       "      <td>NaN</td>\n",
       "      <td>1</td>\n",
       "      <td>0</td>\n",
       "      <td>2</td>\n",
       "      <td>0.0</td>\n",
       "    </tr>\n",
       "    <tr>\n",
       "      <th>348</th>\n",
       "      <td>Lee Grant</td>\n",
       "      <td>NaN</td>\n",
       "      <td>Manchester-United</td>\n",
       "      <td>Goalkeeper</td>\n",
       "      <td>England</td>\n",
       "      <td>37.0</td>\n",
       "      <td>31</td>\n",
       "      <td>10</td>\n",
       "      <td>12</td>\n",
       "      <td>0</td>\n",
       "      <td>...</td>\n",
       "      <td>21.0</td>\n",
       "      <td>24.0</td>\n",
       "      <td>16.0</td>\n",
       "      <td>21.0</td>\n",
       "      <td>114.0</td>\n",
       "      <td>301.0</td>\n",
       "      <td>1</td>\n",
       "      <td>0</td>\n",
       "      <td>0</td>\n",
       "      <td>NaN</td>\n",
       "    </tr>\n",
       "    <tr>\n",
       "      <th>473</th>\n",
       "      <td>Cameron Carter-Vickers</td>\n",
       "      <td>NaN</td>\n",
       "      <td>Tottenham-Hotspur</td>\n",
       "      <td>Defender</td>\n",
       "      <td>United States</td>\n",
       "      <td>22.0</td>\n",
       "      <td>0</td>\n",
       "      <td>0</td>\n",
       "      <td>0</td>\n",
       "      <td>0</td>\n",
       "      <td>...</td>\n",
       "      <td>NaN</td>\n",
       "      <td>NaN</td>\n",
       "      <td>NaN</td>\n",
       "      <td>NaN</td>\n",
       "      <td>NaN</td>\n",
       "      <td>NaN</td>\n",
       "      <td>0</td>\n",
       "      <td>0</td>\n",
       "      <td>0</td>\n",
       "      <td>0.0</td>\n",
       "    </tr>\n",
       "  </tbody>\n",
       "</table>\n",
       "<p>8 rows × 59 columns</p>\n",
       "</div>"
      ],
      "text/plain": [
       "                       Name  Jersey Number               Club    Position  \\\n",
       "57          Bertrand Traoré            NaN        Aston-Villa     Forward   \n",
       "127           Juan Castillo            NaN            Chelsea    Defender   \n",
       "145         Nathan Ferguson            NaN     Crystal-Palace    Defender   \n",
       "280            Cengiz Ünder            NaN     Leicester-City  Midfielder   \n",
       "322            Zack Steffen            NaN    Manchester-City  Goalkeeper   \n",
       "332         Patrick Roberts            NaN    Manchester-City  Midfielder   \n",
       "348               Lee Grant            NaN  Manchester-United  Goalkeeper   \n",
       "473  Cameron Carter-Vickers            NaN  Tottenham-Hotspur    Defender   \n",
       "\n",
       "       Nationality   Age  Appearances  Wins  Losses  Goals  ...  Punches  \\\n",
       "57    Burkina Faso  25.0           10     2       4      2  ...      NaN   \n",
       "127    Netherlands  20.0            0     0       0      0  ...      NaN   \n",
       "145        England  19.0            0     0       0      0  ...      NaN   \n",
       "280         Turkey  23.0            0     0       0      0  ...      NaN   \n",
       "322  United States  25.0            0     0       0      0  ...      0.0   \n",
       "332        England  23.0            6     0       6      0  ...      NaN   \n",
       "348        England  37.0           31    10      12      0  ...     21.0   \n",
       "473  United States  22.0            0     0       0      0  ...      NaN   \n",
       "\n",
       "     High Claims  Catches  Sweeper clearances  Throw outs  Goal Kicks  \\\n",
       "57           NaN      NaN                 NaN         NaN         NaN   \n",
       "127          NaN      NaN                 NaN         NaN         NaN   \n",
       "145          NaN      NaN                 NaN         NaN         NaN   \n",
       "280          NaN      NaN                 NaN         NaN         NaN   \n",
       "322          0.0      0.0                 0.0         0.0         0.0   \n",
       "332          NaN      NaN                 NaN         NaN         NaN   \n",
       "348         24.0     16.0                21.0       114.0       301.0   \n",
       "473          NaN      NaN                 NaN         NaN         NaN   \n",
       "\n",
       "     Yellow cards  Red cards Fouls  Offsides  \n",
       "57              0          0     3       5.0  \n",
       "127             0          0     0       0.0  \n",
       "145             0          0     0       0.0  \n",
       "280             0          0     0       0.0  \n",
       "322             0          0     0       NaN  \n",
       "332             1          0     2       0.0  \n",
       "348             1          0     0       NaN  \n",
       "473             0          0     0       0.0  \n",
       "\n",
       "[8 rows x 59 columns]"
      ]
     },
     "execution_count": 7,
     "metadata": {},
     "output_type": "execute_result"
    }
   ],
   "source": [
    "df[df['Jersey Number'].isnull()]"
   ]
  },
  {
   "cell_type": "code",
   "execution_count": 8,
   "metadata": {},
   "outputs": [],
   "source": [
    "df = df.dropna(subset=['Jersey Number']) #updating the column in the data frame by removing the null values."
   ]
  },
  {
   "cell_type": "code",
   "execution_count": 9,
   "metadata": {},
   "outputs": [
    {
     "data": {
      "text/plain": [
       "0"
      ]
     },
     "execution_count": 9,
     "metadata": {},
     "output_type": "execute_result"
    }
   ],
   "source": [
    "df['Jersey Number'].isnull().sum() #checking if the code worked properly"
   ]
  },
  {
   "cell_type": "code",
   "execution_count": 10,
   "metadata": {},
   "outputs": [],
   "source": [
    "df['Jersey Number'] = df['Jersey Number'].astype(int) #the data type of column jersey number is a float value need to change it to an integer"
   ]
  },
  {
   "cell_type": "code",
   "execution_count": 11,
   "metadata": {},
   "outputs": [
    {
     "data": {
      "text/plain": [
       "dtype('int32')"
      ]
     },
     "execution_count": 11,
     "metadata": {},
     "output_type": "execute_result"
    }
   ],
   "source": [
    "df['Jersey Number'].dtype #the data type has been changed to int"
   ]
  },
  {
   "cell_type": "code",
   "execution_count": 12,
   "metadata": {},
   "outputs": [],
   "source": [
    "sorted_values=df.sort_values(by='Jersey Number') #sorting the values in the column jersey number"
   ]
  },
  {
   "cell_type": "code",
   "execution_count": 13,
   "metadata": {},
   "outputs": [
    {
     "data": {
      "text/plain": [
       "array([ 1,  2,  3,  4,  5,  6,  7,  8,  9, 10, 11, 12, 13, 14, 15, 16, 17,\n",
       "       18, 19, 20, 21, 22, 23, 24, 25, 26, 27, 28, 29, 30, 31, 32, 33, 34,\n",
       "       35, 36, 37, 38, 39, 40, 41, 42, 43, 44, 45, 46, 47, 48, 49, 50, 52,\n",
       "       53, 54, 55, 56, 57, 58, 59, 62, 66, 67, 69, 71, 72, 73, 76, 82])"
      ]
     },
     "execution_count": 13,
     "metadata": {},
     "output_type": "execute_result"
    }
   ],
   "source": [
    "sorted_values['Jersey Number'].unique() #extracting only the unique values"
   ]
  },
  {
   "cell_type": "code",
   "execution_count": 15,
   "metadata": {},
   "outputs": [
    {
     "data": {
      "text/html": [
       "<div>\n",
       "<style scoped>\n",
       "    .dataframe tbody tr th:only-of-type {\n",
       "        vertical-align: middle;\n",
       "    }\n",
       "\n",
       "    .dataframe tbody tr th {\n",
       "        vertical-align: top;\n",
       "    }\n",
       "\n",
       "    .dataframe thead th {\n",
       "        text-align: right;\n",
       "    }\n",
       "</style>\n",
       "<table border=\"1\" class=\"dataframe\">\n",
       "  <thead>\n",
       "    <tr style=\"text-align: right;\">\n",
       "      <th></th>\n",
       "      <th>Jersey Number</th>\n",
       "      <th>Age</th>\n",
       "      <th>Appearances</th>\n",
       "      <th>Wins</th>\n",
       "      <th>Losses</th>\n",
       "      <th>Goals</th>\n",
       "      <th>Goals per match</th>\n",
       "      <th>Headed goals</th>\n",
       "      <th>Goals with right foot</th>\n",
       "      <th>Goals with left foot</th>\n",
       "      <th>...</th>\n",
       "      <th>Punches</th>\n",
       "      <th>High Claims</th>\n",
       "      <th>Catches</th>\n",
       "      <th>Sweeper clearances</th>\n",
       "      <th>Throw outs</th>\n",
       "      <th>Goal Kicks</th>\n",
       "      <th>Yellow cards</th>\n",
       "      <th>Red cards</th>\n",
       "      <th>Fouls</th>\n",
       "      <th>Offsides</th>\n",
       "    </tr>\n",
       "  </thead>\n",
       "  <tbody>\n",
       "    <tr>\n",
       "      <th>count</th>\n",
       "      <td>563.000000</td>\n",
       "      <td>562.000000</td>\n",
       "      <td>563.000000</td>\n",
       "      <td>563.000000</td>\n",
       "      <td>563.000000</td>\n",
       "      <td>563.000000</td>\n",
       "      <td>306.000000</td>\n",
       "      <td>496.000000</td>\n",
       "      <td>496.000000</td>\n",
       "      <td>496.000000</td>\n",
       "      <td>...</td>\n",
       "      <td>67.000000</td>\n",
       "      <td>67.000000</td>\n",
       "      <td>67.000000</td>\n",
       "      <td>67.000000</td>\n",
       "      <td>67.000000</td>\n",
       "      <td>67.000000</td>\n",
       "      <td>563.000000</td>\n",
       "      <td>563.000000</td>\n",
       "      <td>563.000000</td>\n",
       "      <td>496.000000</td>\n",
       "    </tr>\n",
       "    <tr>\n",
       "      <th>mean</th>\n",
       "      <td>19.534636</td>\n",
       "      <td>25.811388</td>\n",
       "      <td>69.717584</td>\n",
       "      <td>29.348135</td>\n",
       "      <td>24.197158</td>\n",
       "      <td>7.428064</td>\n",
       "      <td>2.654118</td>\n",
       "      <td>1.431452</td>\n",
       "      <td>4.522177</td>\n",
       "      <td>2.413306</td>\n",
       "      <td>...</td>\n",
       "      <td>25.074627</td>\n",
       "      <td>46.880597</td>\n",
       "      <td>21.164179</td>\n",
       "      <td>26.014925</td>\n",
       "      <td>214.567164</td>\n",
       "      <td>422.014925</td>\n",
       "      <td>8.026643</td>\n",
       "      <td>0.305506</td>\n",
       "      <td>53.777975</td>\n",
       "      <td>11.187500</td>\n",
       "    </tr>\n",
       "    <tr>\n",
       "      <th>std</th>\n",
       "      <td>14.273515</td>\n",
       "      <td>4.360331</td>\n",
       "      <td>82.020787</td>\n",
       "      <td>39.104881</td>\n",
       "      <td>28.573471</td>\n",
       "      <td>16.908159</td>\n",
       "      <td>8.036430</td>\n",
       "      <td>3.450566</td>\n",
       "      <td>11.104077</td>\n",
       "      <td>6.329069</td>\n",
       "      <td>...</td>\n",
       "      <td>46.876470</td>\n",
       "      <td>83.329671</td>\n",
       "      <td>43.625332</td>\n",
       "      <td>47.936983</td>\n",
       "      <td>338.635865</td>\n",
       "      <td>648.692309</td>\n",
       "      <td>11.602138</td>\n",
       "      <td>0.702630</td>\n",
       "      <td>75.880821</td>\n",
       "      <td>26.705788</td>\n",
       "    </tr>\n",
       "    <tr>\n",
       "      <th>min</th>\n",
       "      <td>1.000000</td>\n",
       "      <td>17.000000</td>\n",
       "      <td>0.000000</td>\n",
       "      <td>0.000000</td>\n",
       "      <td>0.000000</td>\n",
       "      <td>0.000000</td>\n",
       "      <td>0.000000</td>\n",
       "      <td>0.000000</td>\n",
       "      <td>0.000000</td>\n",
       "      <td>0.000000</td>\n",
       "      <td>...</td>\n",
       "      <td>0.000000</td>\n",
       "      <td>0.000000</td>\n",
       "      <td>0.000000</td>\n",
       "      <td>0.000000</td>\n",
       "      <td>0.000000</td>\n",
       "      <td>0.000000</td>\n",
       "      <td>0.000000</td>\n",
       "      <td>0.000000</td>\n",
       "      <td>0.000000</td>\n",
       "      <td>0.000000</td>\n",
       "    </tr>\n",
       "    <tr>\n",
       "      <th>25%</th>\n",
       "      <td>8.000000</td>\n",
       "      <td>22.000000</td>\n",
       "      <td>3.500000</td>\n",
       "      <td>1.000000</td>\n",
       "      <td>2.000000</td>\n",
       "      <td>0.000000</td>\n",
       "      <td>0.050000</td>\n",
       "      <td>0.000000</td>\n",
       "      <td>0.000000</td>\n",
       "      <td>0.000000</td>\n",
       "      <td>...</td>\n",
       "      <td>0.000000</td>\n",
       "      <td>0.000000</td>\n",
       "      <td>0.000000</td>\n",
       "      <td>0.000000</td>\n",
       "      <td>0.000000</td>\n",
       "      <td>0.000000</td>\n",
       "      <td>0.000000</td>\n",
       "      <td>0.000000</td>\n",
       "      <td>1.000000</td>\n",
       "      <td>0.000000</td>\n",
       "    </tr>\n",
       "    <tr>\n",
       "      <th>50%</th>\n",
       "      <td>18.000000</td>\n",
       "      <td>26.000000</td>\n",
       "      <td>37.000000</td>\n",
       "      <td>13.000000</td>\n",
       "      <td>14.000000</td>\n",
       "      <td>1.000000</td>\n",
       "      <td>0.140000</td>\n",
       "      <td>0.000000</td>\n",
       "      <td>1.000000</td>\n",
       "      <td>0.000000</td>\n",
       "      <td>...</td>\n",
       "      <td>2.000000</td>\n",
       "      <td>6.000000</td>\n",
       "      <td>3.000000</td>\n",
       "      <td>4.000000</td>\n",
       "      <td>39.000000</td>\n",
       "      <td>53.000000</td>\n",
       "      <td>3.000000</td>\n",
       "      <td>0.000000</td>\n",
       "      <td>23.000000</td>\n",
       "      <td>2.000000</td>\n",
       "    </tr>\n",
       "    <tr>\n",
       "      <th>75%</th>\n",
       "      <td>27.000000</td>\n",
       "      <td>29.000000</td>\n",
       "      <td>110.000000</td>\n",
       "      <td>42.000000</td>\n",
       "      <td>37.000000</td>\n",
       "      <td>7.000000</td>\n",
       "      <td>0.382500</td>\n",
       "      <td>1.000000</td>\n",
       "      <td>4.000000</td>\n",
       "      <td>2.000000</td>\n",
       "      <td>...</td>\n",
       "      <td>31.500000</td>\n",
       "      <td>47.000000</td>\n",
       "      <td>17.000000</td>\n",
       "      <td>28.000000</td>\n",
       "      <td>305.000000</td>\n",
       "      <td>554.000000</td>\n",
       "      <td>11.000000</td>\n",
       "      <td>0.000000</td>\n",
       "      <td>76.500000</td>\n",
       "      <td>9.000000</td>\n",
       "    </tr>\n",
       "    <tr>\n",
       "      <th>max</th>\n",
       "      <td>82.000000</td>\n",
       "      <td>38.000000</td>\n",
       "      <td>539.000000</td>\n",
       "      <td>272.000000</td>\n",
       "      <td>158.000000</td>\n",
       "      <td>180.000000</td>\n",
       "      <td>57.000000</td>\n",
       "      <td>31.000000</td>\n",
       "      <td>127.000000</td>\n",
       "      <td>63.000000</td>\n",
       "      <td>...</td>\n",
       "      <td>269.000000</td>\n",
       "      <td>391.000000</td>\n",
       "      <td>249.000000</td>\n",
       "      <td>257.000000</td>\n",
       "      <td>1516.000000</td>\n",
       "      <td>2806.000000</td>\n",
       "      <td>81.000000</td>\n",
       "      <td>5.000000</td>\n",
       "      <td>438.000000</td>\n",
       "      <td>203.000000</td>\n",
       "    </tr>\n",
       "  </tbody>\n",
       "</table>\n",
       "<p>8 rows × 52 columns</p>\n",
       "</div>"
      ],
      "text/plain": [
       "       Jersey Number         Age  Appearances        Wins      Losses  \\\n",
       "count     563.000000  562.000000   563.000000  563.000000  563.000000   \n",
       "mean       19.534636   25.811388    69.717584   29.348135   24.197158   \n",
       "std        14.273515    4.360331    82.020787   39.104881   28.573471   \n",
       "min         1.000000   17.000000     0.000000    0.000000    0.000000   \n",
       "25%         8.000000   22.000000     3.500000    1.000000    2.000000   \n",
       "50%        18.000000   26.000000    37.000000   13.000000   14.000000   \n",
       "75%        27.000000   29.000000   110.000000   42.000000   37.000000   \n",
       "max        82.000000   38.000000   539.000000  272.000000  158.000000   \n",
       "\n",
       "            Goals  Goals per match  Headed goals  Goals with right foot  \\\n",
       "count  563.000000       306.000000    496.000000             496.000000   \n",
       "mean     7.428064         2.654118      1.431452               4.522177   \n",
       "std     16.908159         8.036430      3.450566              11.104077   \n",
       "min      0.000000         0.000000      0.000000               0.000000   \n",
       "25%      0.000000         0.050000      0.000000               0.000000   \n",
       "50%      1.000000         0.140000      0.000000               1.000000   \n",
       "75%      7.000000         0.382500      1.000000               4.000000   \n",
       "max    180.000000        57.000000     31.000000             127.000000   \n",
       "\n",
       "       Goals with left foot  ...     Punches  High Claims     Catches  \\\n",
       "count            496.000000  ...   67.000000    67.000000   67.000000   \n",
       "mean               2.413306  ...   25.074627    46.880597   21.164179   \n",
       "std                6.329069  ...   46.876470    83.329671   43.625332   \n",
       "min                0.000000  ...    0.000000     0.000000    0.000000   \n",
       "25%                0.000000  ...    0.000000     0.000000    0.000000   \n",
       "50%                0.000000  ...    2.000000     6.000000    3.000000   \n",
       "75%                2.000000  ...   31.500000    47.000000   17.000000   \n",
       "max               63.000000  ...  269.000000   391.000000  249.000000   \n",
       "\n",
       "       Sweeper clearances   Throw outs   Goal Kicks  Yellow cards   Red cards  \\\n",
       "count           67.000000    67.000000    67.000000    563.000000  563.000000   \n",
       "mean            26.014925   214.567164   422.014925      8.026643    0.305506   \n",
       "std             47.936983   338.635865   648.692309     11.602138    0.702630   \n",
       "min              0.000000     0.000000     0.000000      0.000000    0.000000   \n",
       "25%              0.000000     0.000000     0.000000      0.000000    0.000000   \n",
       "50%              4.000000    39.000000    53.000000      3.000000    0.000000   \n",
       "75%             28.000000   305.000000   554.000000     11.000000    0.000000   \n",
       "max            257.000000  1516.000000  2806.000000     81.000000    5.000000   \n",
       "\n",
       "            Fouls    Offsides  \n",
       "count  563.000000  496.000000  \n",
       "mean    53.777975   11.187500  \n",
       "std     75.880821   26.705788  \n",
       "min      0.000000    0.000000  \n",
       "25%      1.000000    0.000000  \n",
       "50%     23.000000    2.000000  \n",
       "75%     76.500000    9.000000  \n",
       "max    438.000000  203.000000  \n",
       "\n",
       "[8 rows x 52 columns]"
      ]
     },
     "execution_count": 15,
     "metadata": {},
     "output_type": "execute_result"
    }
   ],
   "source": [
    "df.describe() #describing the numerical dataset to understand the outline of the data"
   ]
  },
  {
   "cell_type": "markdown",
   "metadata": {},
   "source": [
    "First we begin with the analysis according to the country"
   ]
  },
  {
   "cell_type": "markdown",
   "metadata": {},
   "source": [
    "The puprpose is to know players from which country is performing well in premier league, If i was the manager of any of the permier league clubs i would prefer sign players from that particular country.Just joking!"
   ]
  },
  {
   "cell_type": "code",
   "execution_count": 16,
   "metadata": {},
   "outputs": [
    {
     "data": {
      "text/plain": [
       "Nationality\n",
       "England    218\n",
       "France      30\n",
       "Spain       28\n",
       "Brazil      24\n",
       "Ireland     24\n",
       "Name: count, dtype: int64"
      ]
     },
     "execution_count": 16,
     "metadata": {},
     "output_type": "execute_result"
    }
   ],
   "source": [
    "df['Nationality'].value_counts().head() #Finding out the number of players from each of the nationality.\n",
    "#since premier league happens in england more players will be from that particular country."
   ]
  },
  {
   "cell_type": "code",
   "execution_count": 4,
   "metadata": {},
   "outputs": [
    {
     "name": "stderr",
     "output_type": "stream",
     "text": [
      "C:\\Users\\91813\\AppData\\Local\\Temp\\ipykernel_32724\\2321808990.py:1: FutureWarning: The provided callable <function mean at 0x000002376EAB39A0> is currently using DataFrameGroupBy.mean. In a future version of pandas, the provided callable will be used directly. To keep current behavior pass the string \"mean\" instead.\n",
      "  by_country = df.pivot_table(index='Nationality', values=['Wins', 'Losses', 'Goals', 'Goals per match'], aggfunc=np.mean)\n"
     ]
    }
   ],
   "source": [
    "# To view the average wins, losses, goals and goals per match with respect to players from different nationality\n",
    "by_country = df.pivot_table(index='Nationality', values=['Wins', 'Losses', 'Goals', 'Goals per match'], aggfunc=np.mean)"
   ]
  },
  {
   "cell_type": "markdown",
   "metadata": {},
   "source": [
    "I would have definately sign some south korean players, would love to know there tactics."
   ]
  },
  {
   "cell_type": "code",
   "execution_count": 6,
   "metadata": {},
   "outputs": [
    {
     "data": {
      "text/html": [
       "<div>\n",
       "<style scoped>\n",
       "    .dataframe tbody tr th:only-of-type {\n",
       "        vertical-align: middle;\n",
       "    }\n",
       "\n",
       "    .dataframe tbody tr th {\n",
       "        vertical-align: top;\n",
       "    }\n",
       "\n",
       "    .dataframe thead th {\n",
       "        text-align: right;\n",
       "    }\n",
       "</style>\n",
       "<table border=\"1\" class=\"dataframe\">\n",
       "  <thead>\n",
       "    <tr style=\"text-align: right;\">\n",
       "      <th></th>\n",
       "      <th>Goals</th>\n",
       "      <th>Goals per match</th>\n",
       "      <th>Losses</th>\n",
       "      <th>Wins</th>\n",
       "    </tr>\n",
       "    <tr>\n",
       "      <th>Nationality</th>\n",
       "      <th></th>\n",
       "      <th></th>\n",
       "      <th></th>\n",
       "      <th></th>\n",
       "    </tr>\n",
       "  </thead>\n",
       "  <tbody>\n",
       "    <tr>\n",
       "      <th>South Korea</th>\n",
       "      <td>57.000000</td>\n",
       "      <td>0.350000</td>\n",
       "      <td>36.000000</td>\n",
       "      <td>95.000000</td>\n",
       "    </tr>\n",
       "    <tr>\n",
       "      <th>New Zealand</th>\n",
       "      <td>36.000000</td>\n",
       "      <td>0.340000</td>\n",
       "      <td>43.000000</td>\n",
       "      <td>35.000000</td>\n",
       "    </tr>\n",
       "    <tr>\n",
       "      <th>Senegal</th>\n",
       "      <td>33.333333</td>\n",
       "      <td>0.236667</td>\n",
       "      <td>37.666667</td>\n",
       "      <td>62.666667</td>\n",
       "    </tr>\n",
       "    <tr>\n",
       "      <th>Mexico</th>\n",
       "      <td>32.000000</td>\n",
       "      <td>0.410000</td>\n",
       "      <td>23.000000</td>\n",
       "      <td>32.000000</td>\n",
       "    </tr>\n",
       "    <tr>\n",
       "      <th>Gabon</th>\n",
       "      <td>28.500000</td>\n",
       "      <td>0.335000</td>\n",
       "      <td>23.500000</td>\n",
       "      <td>25.500000</td>\n",
       "    </tr>\n",
       "    <tr>\n",
       "      <th>Iceland</th>\n",
       "      <td>22.666667</td>\n",
       "      <td>0.140000</td>\n",
       "      <td>51.333333</td>\n",
       "      <td>47.333333</td>\n",
       "    </tr>\n",
       "    <tr>\n",
       "      <th>Algeria</th>\n",
       "      <td>22.000000</td>\n",
       "      <td>0.183333</td>\n",
       "      <td>29.333333</td>\n",
       "      <td>39.000000</td>\n",
       "    </tr>\n",
       "    <tr>\n",
       "      <th>Egypt</th>\n",
       "      <td>18.400000</td>\n",
       "      <td>15.933333</td>\n",
       "      <td>30.200000</td>\n",
       "      <td>36.400000</td>\n",
       "    </tr>\n",
       "    <tr>\n",
       "      <th>Argentina</th>\n",
       "      <td>17.692308</td>\n",
       "      <td>7.788000</td>\n",
       "      <td>21.538462</td>\n",
       "      <td>42.923077</td>\n",
       "    </tr>\n",
       "    <tr>\n",
       "      <th>Serbia</th>\n",
       "      <td>15.600000</td>\n",
       "      <td>2.135000</td>\n",
       "      <td>37.600000</td>\n",
       "      <td>68.200000</td>\n",
       "    </tr>\n",
       "  </tbody>\n",
       "</table>\n",
       "</div>"
      ],
      "text/plain": [
       "                 Goals  Goals per match     Losses       Wins\n",
       "Nationality                                                  \n",
       "South Korea  57.000000         0.350000  36.000000  95.000000\n",
       "New Zealand  36.000000         0.340000  43.000000  35.000000\n",
       "Senegal      33.333333         0.236667  37.666667  62.666667\n",
       "Mexico       32.000000         0.410000  23.000000  32.000000\n",
       "Gabon        28.500000         0.335000  23.500000  25.500000\n",
       "Iceland      22.666667         0.140000  51.333333  47.333333\n",
       "Algeria      22.000000         0.183333  29.333333  39.000000\n",
       "Egypt        18.400000        15.933333  30.200000  36.400000\n",
       "Argentina    17.692308         7.788000  21.538462  42.923077\n",
       "Serbia       15.600000         2.135000  37.600000  68.200000"
      ]
     },
     "execution_count": 6,
     "metadata": {},
     "output_type": "execute_result"
    }
   ],
   "source": [
    "# showcasing the pivot table by goals in descending order\n",
    "goal_scoring_country = by_country.sort_values(by='Goals',ascending=False).head(10)\n",
    "goal_scoring_country"
   ]
  },
  {
   "cell_type": "code",
   "execution_count": 18,
   "metadata": {},
   "outputs": [
    {
     "name": "stderr",
     "output_type": "stream",
     "text": [
      "C:\\Users\\91813\\AppData\\Local\\Temp\\ipykernel_29900\\239445776.py:1: FutureWarning: The provided callable <function sum at 0x0000022EFEFE1C60> is currently using DataFrameGroupBy.sum. In a future version of pandas, the provided callable will be used directly. To keep current behavior pass the string \"sum\" instead.\n",
      "  by_players = df.pivot_table(index='Name', values=['Appearances','Wins', 'Losses', 'Goals', 'Goals per match'],\n"
     ]
    }
   ],
   "source": [
    "# To view the average wins, losses, goals and goals per match with respect to players from different nationality\n",
    "\n",
    "by_players = df.pivot_table(index='Name', values=['Appearances','Wins', 'Losses', 'Goals', 'Goals per match'], \n",
    "                            aggfunc=np.sum)\n"
   ]
  },
  {
   "cell_type": "markdown",
   "metadata": {},
   "source": [
    "If you are a football fan you will be aware how good is Sergio Agureo. He has been in premierleage for a pretty long time, he has most appearances in the top 5 goal scoring players"
   ]
  },
  {
   "cell_type": "code",
   "execution_count": 19,
   "metadata": {},
   "outputs": [
    {
     "data": {
      "text/html": [
       "<div>\n",
       "<style scoped>\n",
       "    .dataframe tbody tr th:only-of-type {\n",
       "        vertical-align: middle;\n",
       "    }\n",
       "\n",
       "    .dataframe tbody tr th {\n",
       "        vertical-align: top;\n",
       "    }\n",
       "\n",
       "    .dataframe thead th {\n",
       "        text-align: right;\n",
       "    }\n",
       "</style>\n",
       "<table border=\"1\" class=\"dataframe\">\n",
       "  <thead>\n",
       "    <tr style=\"text-align: right;\">\n",
       "      <th></th>\n",
       "      <th>Appearances</th>\n",
       "      <th>Goals</th>\n",
       "      <th>Goals per match</th>\n",
       "      <th>Losses</th>\n",
       "      <th>Wins</th>\n",
       "    </tr>\n",
       "    <tr>\n",
       "      <th>Name</th>\n",
       "      <th></th>\n",
       "      <th></th>\n",
       "      <th></th>\n",
       "      <th></th>\n",
       "      <th></th>\n",
       "    </tr>\n",
       "  </thead>\n",
       "  <tbody>\n",
       "    <tr>\n",
       "      <th>Sergio Agüero</th>\n",
       "      <td>263</td>\n",
       "      <td>180</td>\n",
       "      <td>0.68</td>\n",
       "      <td>44</td>\n",
       "      <td>177</td>\n",
       "    </tr>\n",
       "    <tr>\n",
       "      <th>Harry Kane</th>\n",
       "      <td>212</td>\n",
       "      <td>144</td>\n",
       "      <td>0.68</td>\n",
       "      <td>48</td>\n",
       "      <td>120</td>\n",
       "    </tr>\n",
       "    <tr>\n",
       "      <th>Jamie Vardy</th>\n",
       "      <td>213</td>\n",
       "      <td>105</td>\n",
       "      <td>0.49</td>\n",
       "      <td>77</td>\n",
       "      <td>86</td>\n",
       "    </tr>\n",
       "    <tr>\n",
       "      <th>Olivier Giroud</th>\n",
       "      <td>238</td>\n",
       "      <td>86</td>\n",
       "      <td>0.36</td>\n",
       "      <td>56</td>\n",
       "      <td>133</td>\n",
       "    </tr>\n",
       "    <tr>\n",
       "      <th>Sadio Mané</th>\n",
       "      <td>196</td>\n",
       "      <td>86</td>\n",
       "      <td>0.44</td>\n",
       "      <td>35</td>\n",
       "      <td>121</td>\n",
       "    </tr>\n",
       "    <tr>\n",
       "      <th>...</th>\n",
       "      <td>...</td>\n",
       "      <td>...</td>\n",
       "      <td>...</td>\n",
       "      <td>...</td>\n",
       "      <td>...</td>\n",
       "    </tr>\n",
       "    <tr>\n",
       "      <th>Dara O'Shea</th>\n",
       "      <td>2</td>\n",
       "      <td>0</td>\n",
       "      <td>0.00</td>\n",
       "      <td>2</td>\n",
       "      <td>0</td>\n",
       "    </tr>\n",
       "    <tr>\n",
       "      <th>Darnell Furlong</th>\n",
       "      <td>5</td>\n",
       "      <td>0</td>\n",
       "      <td>0.00</td>\n",
       "      <td>5</td>\n",
       "      <td>0</td>\n",
       "    </tr>\n",
       "    <tr>\n",
       "      <th>Lovre Kalinic</th>\n",
       "      <td>0</td>\n",
       "      <td>0</td>\n",
       "      <td>0.00</td>\n",
       "      <td>0</td>\n",
       "      <td>0</td>\n",
       "    </tr>\n",
       "    <tr>\n",
       "      <th>Loris Karius</th>\n",
       "      <td>29</td>\n",
       "      <td>0</td>\n",
       "      <td>0.00</td>\n",
       "      <td>4</td>\n",
       "      <td>17</td>\n",
       "    </tr>\n",
       "    <tr>\n",
       "      <th>Ørjan Nyland</th>\n",
       "      <td>7</td>\n",
       "      <td>0</td>\n",
       "      <td>0.00</td>\n",
       "      <td>4</td>\n",
       "      <td>1</td>\n",
       "    </tr>\n",
       "  </tbody>\n",
       "</table>\n",
       "<p>563 rows × 5 columns</p>\n",
       "</div>"
      ],
      "text/plain": [
       "                 Appearances  Goals  Goals per match  Losses  Wins\n",
       "Name                                                              \n",
       "Sergio Agüero            263    180             0.68      44   177\n",
       "Harry Kane               212    144             0.68      48   120\n",
       "Jamie Vardy              213    105             0.49      77    86\n",
       "Olivier Giroud           238     86             0.36      56   133\n",
       "Sadio Mané               196     86             0.44      35   121\n",
       "...                      ...    ...              ...     ...   ...\n",
       "Dara O'Shea                2      0             0.00       2     0\n",
       "Darnell Furlong            5      0             0.00       5     0\n",
       "Lovre Kalinic              0      0             0.00       0     0\n",
       "Loris Karius              29      0             0.00       4    17\n",
       "Ørjan Nyland               7      0             0.00       4     1\n",
       "\n",
       "[563 rows x 5 columns]"
      ]
     },
     "execution_count": 19,
     "metadata": {},
     "output_type": "execute_result"
    }
   ],
   "source": [
    "# showcasing the pivot table by goals in descending order\n",
    "\n",
    "by_players.sort_values('Goals',ascending=False)"
   ]
  },
  {
   "cell_type": "code",
   "execution_count": 21,
   "metadata": {},
   "outputs": [
    {
     "data": {
      "text/plain": [
       "<Axes: xlabel='Nationality'>"
      ]
     },
     "execution_count": 21,
     "metadata": {},
     "output_type": "execute_result"
    },
    {
     "data": {
      "image/png": "[encoded data removed]",
      "text/plain": [
       "<Figure size 4000x3000 with 1 Axes>"
      ]
     },
     "metadata": {},
     "output_type": "display_data"
    }
   ],
   "source": [
    "goal_scoring_country.plot(kind='bar', figsize=(40,30)) #plotted a chart by countries with showing various bars such as average wins, losses, goals and goals per match"
   ]
  },
  {
   "cell_type": "code",
   "execution_count": 22,
   "metadata": {},
   "outputs": [
    {
     "data": {
      "text/plain": [
       "Text(0, 0.5, 'Total Goals')"
      ]
     },
     "execution_count": 22,
     "metadata": {},
     "output_type": "execute_result"
    },
    {
     "data": {
      "image/png": "[encoded data removed]",
      "text/plain": [
       "<Figure size 640x480 with 1 Axes>"
      ]
     },
     "metadata": {},
     "output_type": "display_data"
    }
   ],
   "source": [
    "#showing only the goal scored by players from various countries and south korea tops the list.\n",
    "sns.barplot(data=goal_scoring_country, x='Goals', y='Nationality')\n",
    "plt.title('Total Goals by Nationality')\n",
    "plt.xlabel('Nationality')\n",
    "plt.ylabel('Total Goals')"
   ]
  },
  {
   "cell_type": "code",
   "execution_count": 15,
   "metadata": {},
   "outputs": [
    {
     "data": {
      "text/plain": [
       "0       0\n",
       "1       0\n",
       "2       0\n",
       "3      25\n",
       "4       2\n",
       "       ..\n",
       "566     7\n",
       "567    45\n",
       "568    17\n",
       "569     0\n",
       "570     0\n",
       "Name: Total chances, Length: 571, dtype: int64"
      ]
     },
     "execution_count": 15,
     "metadata": {},
     "output_type": "execute_result"
    }
   ],
   "source": [
    "#the main factor which matters most in football is scoring goals and providing assists\n",
    "df['Total chances'] = df['Goals'] + df['Assists']\n",
    "df['Total chances']"
   ]
  },
  {
   "cell_type": "code",
   "execution_count": 16,
   "metadata": {},
   "outputs": [
    {
     "data": {
      "text/plain": [
       "0"
      ]
     },
     "execution_count": 16,
     "metadata": {},
     "output_type": "execute_result"
    }
   ],
   "source": [
    "df['Total chances'].isnull().sum() #checking if there is any null values"
   ]
  },
  {
   "cell_type": "code",
   "execution_count": 17,
   "metadata": {},
   "outputs": [],
   "source": [
    "jersey_num_means = df.groupby('Jersey Number')['Total chances'].mean() #grouping the jersey number with respect to the total chances to know which jersey number in league is performing good in the league"
   ]
  },
  {
   "cell_type": "code",
   "execution_count": 18,
   "metadata": {},
   "outputs": [],
   "source": [
    "jersey_num_total_chances = jersey_num_means.sort_values(ascending=False) #sorting the values by jersey number to have abetter visualisation"
   ]
  },
  {
   "cell_type": "code",
   "execution_count": 19,
   "metadata": {},
   "outputs": [
    {
     "data": {
      "image/png": "[encoded data removed]",
      "text/plain": [
       "<Figure size 1200x600 with 1 Axes>"
      ]
     },
     "metadata": {},
     "output_type": "display_data"
    }
   ],
   "source": [
    "#plotting a graph of total chances by each jersey number\n",
    "plt.figure(figsize=(12, 6))\n",
    "jersey_num_total_chances.plot(kind='bar', color='skyblue')\n",
    "plt.title('Total Chances Created by Jersey Number')\n",
    "plt.xlabel('Jersey Number')\n",
    "plt.ylabel('Total Chances')\n",
    "plt.show()"
   ]
  },
  {
   "cell_type": "markdown",
   "metadata": {},
   "source": [
    "we can see that jersey number 66 is on the 4th position. Generally jersey number 10,9,7,11 are given to players playing in forward position"
   ]
  },
  {
   "cell_type": "code",
   "execution_count": 20,
   "metadata": {},
   "outputs": [
    {
     "data": {
      "text/html": [
       "<div>\n",
       "<style scoped>\n",
       "    .dataframe tbody tr th:only-of-type {\n",
       "        vertical-align: middle;\n",
       "    }\n",
       "\n",
       "    .dataframe tbody tr th {\n",
       "        vertical-align: top;\n",
       "    }\n",
       "\n",
       "    .dataframe thead th {\n",
       "        text-align: right;\n",
       "    }\n",
       "</style>\n",
       "<table border=\"1\" class=\"dataframe\">\n",
       "  <thead>\n",
       "    <tr style=\"text-align: right;\">\n",
       "      <th></th>\n",
       "      <th>Name</th>\n",
       "      <th>Goals</th>\n",
       "      <th>Assists</th>\n",
       "    </tr>\n",
       "  </thead>\n",
       "  <tbody>\n",
       "    <tr>\n",
       "      <th>295</th>\n",
       "      <td>Trent Alexander-Arnold</td>\n",
       "      <td>6</td>\n",
       "      <td>26</td>\n",
       "    </tr>\n",
       "  </tbody>\n",
       "</table>\n",
       "</div>"
      ],
      "text/plain": [
       "                       Name  Goals  Assists\n",
       "295  Trent Alexander-Arnold      6       26"
      ]
     },
     "execution_count": 20,
     "metadata": {},
     "output_type": "execute_result"
    }
   ],
   "source": [
    "df[df['Jersey Number']==66][['Name','Goals','Assists']]"
   ]
  },
  {
   "cell_type": "markdown",
   "metadata": {},
   "source": [
    "### Analysing Performance by Position"
   ]
  },
  {
   "cell_type": "code",
   "execution_count": 21,
   "metadata": {},
   "outputs": [
    {
     "data": {
      "text/plain": [
       "Position\n",
       "Midfielder    198\n",
       "Defender      194\n",
       "Forward       110\n",
       "Goalkeeper     69\n",
       "Name: count, dtype: int64"
      ]
     },
     "execution_count": 21,
     "metadata": {},
     "output_type": "execute_result"
    }
   ],
   "source": [
    "#calculating the number of players in each position\n",
    "df['Position'].value_counts()"
   ]
  },
  {
   "cell_type": "code",
   "execution_count": 22,
   "metadata": {},
   "outputs": [],
   "source": [
    "#Segregatting the data with respect to the position.\n",
    "\n",
    "Midfielder_data = df[df['Position'] == 'Midfielder']\n",
    "Defender_data = df[df['Position']  =='Defender']\n",
    "Forward_data = df[df['Position'] == 'Forward']\n",
    "Goalkeeper_data = df[df['Position'] == 'Goalkeeper']"
   ]
  },
  {
   "cell_type": "markdown",
   "metadata": {},
   "source": [
    "First we would calculate the chances forward created and ploting them on the graph."
   ]
  },
  {
   "cell_type": "code",
   "execution_count": 23,
   "metadata": {},
   "outputs": [
    {
     "data": {
      "text/plain": [
       "count    110.000000\n",
       "mean      30.000000\n",
       "std       41.168038\n",
       "min        0.000000\n",
       "25%        2.250000\n",
       "50%       10.500000\n",
       "75%       44.750000\n",
       "max      226.000000\n",
       "Name: Total chances, dtype: float64"
      ]
     },
     "execution_count": 23,
     "metadata": {},
     "output_type": "execute_result"
    }
   ],
   "source": [
    "#By describing the data would get to know the outline of the chances created by forward.\n",
    "Forward_data['Total chances'].describe()"
   ]
  },
  {
   "cell_type": "code",
   "execution_count": 24,
   "metadata": {},
   "outputs": [],
   "source": [
    "#sort out the top 5 players by total chances \n",
    "striker = Forward_data.sort_values(by='Total chances',ascending=False).head()"
   ]
  },
  {
   "cell_type": "code",
   "execution_count": 25,
   "metadata": {},
   "outputs": [
    {
     "data": {
      "image/png": "[encoded data removed]",
      "text/plain": [
       "<Figure size 2000x1000 with 1 Axes>"
      ]
     },
     "metadata": {},
     "output_type": "display_data"
    }
   ],
   "source": [
    "#ploting a bargraph for strikers\n",
    "plt.figure(figsize=(20, 10))\n",
    "sns.barplot(data=striker, y='Goals', x='Name')\n",
    "plt.title('Top goal scorers in the premier league')\n",
    "plt.xlabel('Playes name')\n",
    "plt.ylabel('Total Goals scored')\n",
    "plt.show()"
   ]
  },
  {
   "cell_type": "markdown",
   "metadata": {},
   "source": [
    "Now we would calculate the chances forward created and ploting them on the graph."
   ]
  },
  {
   "cell_type": "code",
   "execution_count": 26,
   "metadata": {},
   "outputs": [
    {
     "data": {
      "text/plain": [
       "count    198.000000\n",
       "mean      13.782828\n",
       "std       22.167299\n",
       "min        0.000000\n",
       "25%        0.000000\n",
       "50%        5.000000\n",
       "75%       17.750000\n",
       "max      139.000000\n",
       "Name: Total chances, dtype: float64"
      ]
     },
     "execution_count": 26,
     "metadata": {},
     "output_type": "execute_result"
    }
   ],
   "source": [
    "#By describing the data would get to know the outline of the chances created by forward.\n",
    "Midfielder_data['Total chances'].describe()"
   ]
  },
  {
   "cell_type": "code",
   "execution_count": 31,
   "metadata": {},
   "outputs": [],
   "source": [
    "#sort out the top 5 players by total chances \n",
    "Midfielder = Midfielder_data.sort_values(by='Total chances',ascending=False).head()"
   ]
  },
  {
   "cell_type": "code",
   "execution_count": 33,
   "metadata": {},
   "outputs": [
    {
     "data": {
      "text/html": [
       "<div>\n",
       "<style scoped>\n",
       "    .dataframe tbody tr th:only-of-type {\n",
       "        vertical-align: middle;\n",
       "    }\n",
       "\n",
       "    .dataframe tbody tr th {\n",
       "        vertical-align: top;\n",
       "    }\n",
       "\n",
       "    .dataframe thead th {\n",
       "        text-align: right;\n",
       "    }\n",
       "</style>\n",
       "<table border=\"1\" class=\"dataframe\">\n",
       "  <thead>\n",
       "    <tr style=\"text-align: right;\">\n",
       "      <th></th>\n",
       "      <th>Name</th>\n",
       "      <th>Jersey Number</th>\n",
       "      <th>Club</th>\n",
       "      <th>Position</th>\n",
       "      <th>Nationality</th>\n",
       "      <th>Age</th>\n",
       "      <th>Appearances</th>\n",
       "      <th>Wins</th>\n",
       "      <th>Losses</th>\n",
       "      <th>Goals</th>\n",
       "      <th>...</th>\n",
       "      <th>High Claims</th>\n",
       "      <th>Catches</th>\n",
       "      <th>Sweeper clearances</th>\n",
       "      <th>Throw outs</th>\n",
       "      <th>Goal Kicks</th>\n",
       "      <th>Yellow cards</th>\n",
       "      <th>Red cards</th>\n",
       "      <th>Fouls</th>\n",
       "      <th>Offsides</th>\n",
       "      <th>Total chances</th>\n",
       "    </tr>\n",
       "  </thead>\n",
       "  <tbody>\n",
       "    <tr>\n",
       "      <th>302</th>\n",
       "      <td>James Milner</td>\n",
       "      <td>7.0</td>\n",
       "      <td>Liverpool</td>\n",
       "      <td>Midfielder</td>\n",
       "      <td>England</td>\n",
       "      <td>34.0</td>\n",
       "      <td>539</td>\n",
       "      <td>272</td>\n",
       "      <td>133</td>\n",
       "      <td>55</td>\n",
       "      <td>...</td>\n",
       "      <td>NaN</td>\n",
       "      <td>NaN</td>\n",
       "      <td>NaN</td>\n",
       "      <td>NaN</td>\n",
       "      <td>NaN</td>\n",
       "      <td>65</td>\n",
       "      <td>3</td>\n",
       "      <td>438</td>\n",
       "      <td>45.0</td>\n",
       "      <td>139</td>\n",
       "    </tr>\n",
       "    <tr>\n",
       "      <th>185</th>\n",
       "      <td>Gylfi Sigurdsson</td>\n",
       "      <td>10.0</td>\n",
       "      <td>Everton</td>\n",
       "      <td>Midfielder</td>\n",
       "      <td>Iceland</td>\n",
       "      <td>31.0</td>\n",
       "      <td>284</td>\n",
       "      <td>114</td>\n",
       "      <td>110</td>\n",
       "      <td>61</td>\n",
       "      <td>...</td>\n",
       "      <td>NaN</td>\n",
       "      <td>NaN</td>\n",
       "      <td>NaN</td>\n",
       "      <td>NaN</td>\n",
       "      <td>NaN</td>\n",
       "      <td>20</td>\n",
       "      <td>0</td>\n",
       "      <td>193</td>\n",
       "      <td>16.0</td>\n",
       "      <td>106</td>\n",
       "    </tr>\n",
       "    <tr>\n",
       "      <th>335</th>\n",
       "      <td>Kevin De Bruyne</td>\n",
       "      <td>17.0</td>\n",
       "      <td>Manchester-City</td>\n",
       "      <td>Midfielder</td>\n",
       "      <td>Belgium</td>\n",
       "      <td>29.0</td>\n",
       "      <td>156</td>\n",
       "      <td>109</td>\n",
       "      <td>22</td>\n",
       "      <td>37</td>\n",
       "      <td>...</td>\n",
       "      <td>NaN</td>\n",
       "      <td>NaN</td>\n",
       "      <td>NaN</td>\n",
       "      <td>NaN</td>\n",
       "      <td>NaN</td>\n",
       "      <td>14</td>\n",
       "      <td>0</td>\n",
       "      <td>122</td>\n",
       "      <td>16.0</td>\n",
       "      <td>104</td>\n",
       "    </tr>\n",
       "    <tr>\n",
       "      <th>365</th>\n",
       "      <td>Juan Mata</td>\n",
       "      <td>8.0</td>\n",
       "      <td>Manchester-United</td>\n",
       "      <td>Midfielder</td>\n",
       "      <td>Spain</td>\n",
       "      <td>32.0</td>\n",
       "      <td>262</td>\n",
       "      <td>136</td>\n",
       "      <td>61</td>\n",
       "      <td>51</td>\n",
       "      <td>...</td>\n",
       "      <td>NaN</td>\n",
       "      <td>NaN</td>\n",
       "      <td>NaN</td>\n",
       "      <td>NaN</td>\n",
       "      <td>NaN</td>\n",
       "      <td>19</td>\n",
       "      <td>1</td>\n",
       "      <td>134</td>\n",
       "      <td>102.0</td>\n",
       "      <td>103</td>\n",
       "    </tr>\n",
       "    <tr>\n",
       "      <th>13</th>\n",
       "      <td>Mesut Özil</td>\n",
       "      <td>10.0</td>\n",
       "      <td>Arsenal</td>\n",
       "      <td>Midfielder</td>\n",
       "      <td>Germany</td>\n",
       "      <td>31.0</td>\n",
       "      <td>184</td>\n",
       "      <td>100</td>\n",
       "      <td>39</td>\n",
       "      <td>33</td>\n",
       "      <td>...</td>\n",
       "      <td>NaN</td>\n",
       "      <td>NaN</td>\n",
       "      <td>NaN</td>\n",
       "      <td>NaN</td>\n",
       "      <td>NaN</td>\n",
       "      <td>13</td>\n",
       "      <td>0</td>\n",
       "      <td>95</td>\n",
       "      <td>83.0</td>\n",
       "      <td>87</td>\n",
       "    </tr>\n",
       "  </tbody>\n",
       "</table>\n",
       "<p>5 rows × 60 columns</p>\n",
       "</div>"
      ],
      "text/plain": [
       "                 Name  Jersey Number               Club    Position  \\\n",
       "302      James Milner            7.0          Liverpool  Midfielder   \n",
       "185  Gylfi Sigurdsson           10.0            Everton  Midfielder   \n",
       "335   Kevin De Bruyne           17.0    Manchester-City  Midfielder   \n",
       "365         Juan Mata            8.0  Manchester-United  Midfielder   \n",
       "13         Mesut Özil           10.0            Arsenal  Midfielder   \n",
       "\n",
       "    Nationality   Age  Appearances  Wins  Losses  Goals  ...  High Claims  \\\n",
       "302     England  34.0          539   272     133     55  ...          NaN   \n",
       "185     Iceland  31.0          284   114     110     61  ...          NaN   \n",
       "335     Belgium  29.0          156   109      22     37  ...          NaN   \n",
       "365       Spain  32.0          262   136      61     51  ...          NaN   \n",
       "13      Germany  31.0          184   100      39     33  ...          NaN   \n",
       "\n",
       "     Catches  Sweeper clearances  Throw outs  Goal Kicks  Yellow cards  \\\n",
       "302      NaN                 NaN         NaN         NaN            65   \n",
       "185      NaN                 NaN         NaN         NaN            20   \n",
       "335      NaN                 NaN         NaN         NaN            14   \n",
       "365      NaN                 NaN         NaN         NaN            19   \n",
       "13       NaN                 NaN         NaN         NaN            13   \n",
       "\n",
       "     Red cards  Fouls Offsides  Total chances  \n",
       "302          3    438     45.0            139  \n",
       "185          0    193     16.0            106  \n",
       "335          0    122     16.0            104  \n",
       "365          1    134    102.0            103  \n",
       "13           0     95     83.0             87  \n",
       "\n",
       "[5 rows x 60 columns]"
      ]
     },
     "execution_count": 33,
     "metadata": {},
     "output_type": "execute_result"
    }
   ],
   "source": [
    "Midfielder_data.sort_values(by='Total chances',ascending=False).head()"
   ]
  },
  {
   "cell_type": "code",
   "execution_count": 34,
   "metadata": {},
   "outputs": [
    {
     "data": {
      "image/png": "[encoded data removed]",
      "text/plain": [
       "<Figure size 2000x1000 with 1 Axes>"
      ]
     },
     "metadata": {},
     "output_type": "display_data"
    }
   ],
   "source": [
    "plt.figure(figsize=(20, 10))\n",
    "sns.barplot(data=Midfielder, y='Total chances', x='Name')\n",
    "plt.title('Top 5 Midfielder in the premier league')\n",
    "plt.xlabel('Playes name')\n",
    "plt.ylabel('Total Goals scored')\n",
    "plt.show()"
   ]
  },
  {
   "cell_type": "markdown",
   "metadata": {},
   "source": [
    "James milner is one of the prominent players in the liverpool squad. Sigurdsson is one of the most underrated players in the premier league."
   ]
  },
  {
   "cell_type": "markdown",
   "metadata": {},
   "source": [
    "Analysing defenders if they have impact on scoring goals."
   ]
  },
  {
   "cell_type": "code",
   "execution_count": 36,
   "metadata": {},
   "outputs": [
    {
     "data": {
      "text/plain": [
       "count    191.000000\n",
       "mean       6.083770\n",
       "std        9.190573\n",
       "min        0.000000\n",
       "25%        0.000000\n",
       "50%        2.000000\n",
       "75%        8.000000\n",
       "max       42.000000\n",
       "Name: Total chances, dtype: float64"
      ]
     },
     "execution_count": 36,
     "metadata": {},
     "output_type": "execute_result"
    }
   ],
   "source": [
    "#By describing the data would get to know the outline of the chances created by Defenders.\n",
    "Defender_data['Total chances'].describe()"
   ]
  },
  {
   "cell_type": "code",
   "execution_count": 37,
   "metadata": {},
   "outputs": [
    {
     "data": {
      "text/html": [
       "<div>\n",
       "<style scoped>\n",
       "    .dataframe tbody tr th:only-of-type {\n",
       "        vertical-align: middle;\n",
       "    }\n",
       "\n",
       "    .dataframe tbody tr th {\n",
       "        vertical-align: top;\n",
       "    }\n",
       "\n",
       "    .dataframe thead th {\n",
       "        text-align: right;\n",
       "    }\n",
       "</style>\n",
       "<table border=\"1\" class=\"dataframe\">\n",
       "  <thead>\n",
       "    <tr style=\"text-align: right;\">\n",
       "      <th></th>\n",
       "      <th>Name</th>\n",
       "      <th>Jersey Number</th>\n",
       "      <th>Club</th>\n",
       "      <th>Position</th>\n",
       "      <th>Nationality</th>\n",
       "      <th>Age</th>\n",
       "      <th>Appearances</th>\n",
       "      <th>Wins</th>\n",
       "      <th>Losses</th>\n",
       "      <th>Goals</th>\n",
       "      <th>...</th>\n",
       "      <th>High Claims</th>\n",
       "      <th>Catches</th>\n",
       "      <th>Sweeper clearances</th>\n",
       "      <th>Throw outs</th>\n",
       "      <th>Goal Kicks</th>\n",
       "      <th>Yellow cards</th>\n",
       "      <th>Red cards</th>\n",
       "      <th>Fouls</th>\n",
       "      <th>Offsides</th>\n",
       "      <th>Total chances</th>\n",
       "    </tr>\n",
       "  </thead>\n",
       "  <tbody>\n",
       "    <tr>\n",
       "      <th>504</th>\n",
       "      <td>Branislav Ivanovic</td>\n",
       "      <td>20</td>\n",
       "      <td>West-Bromwich-Albion</td>\n",
       "      <td>Defender</td>\n",
       "      <td>Serbia</td>\n",
       "      <td>36.0</td>\n",
       "      <td>261</td>\n",
       "      <td>152</td>\n",
       "      <td>50</td>\n",
       "      <td>22</td>\n",
       "      <td>...</td>\n",
       "      <td>NaN</td>\n",
       "      <td>NaN</td>\n",
       "      <td>NaN</td>\n",
       "      <td>NaN</td>\n",
       "      <td>NaN</td>\n",
       "      <td>55</td>\n",
       "      <td>2</td>\n",
       "      <td>293</td>\n",
       "      <td>18.0</td>\n",
       "      <td>42</td>\n",
       "    </tr>\n",
       "    <tr>\n",
       "      <th>180</th>\n",
       "      <td>Séamus Coleman</td>\n",
       "      <td>23</td>\n",
       "      <td>Everton</td>\n",
       "      <td>Defender</td>\n",
       "      <td>Ireland</td>\n",
       "      <td>31.0</td>\n",
       "      <td>276</td>\n",
       "      <td>114</td>\n",
       "      <td>79</td>\n",
       "      <td>20</td>\n",
       "      <td>...</td>\n",
       "      <td>NaN</td>\n",
       "      <td>NaN</td>\n",
       "      <td>NaN</td>\n",
       "      <td>NaN</td>\n",
       "      <td>NaN</td>\n",
       "      <td>29</td>\n",
       "      <td>2</td>\n",
       "      <td>194</td>\n",
       "      <td>29.0</td>\n",
       "      <td>41</td>\n",
       "    </tr>\n",
       "    <tr>\n",
       "      <th>122</th>\n",
       "      <td>César Azpilicueta</td>\n",
       "      <td>28</td>\n",
       "      <td>Chelsea</td>\n",
       "      <td>Defender</td>\n",
       "      <td>Spain</td>\n",
       "      <td>31.0</td>\n",
       "      <td>272</td>\n",
       "      <td>158</td>\n",
       "      <td>56</td>\n",
       "      <td>8</td>\n",
       "      <td>...</td>\n",
       "      <td>NaN</td>\n",
       "      <td>NaN</td>\n",
       "      <td>NaN</td>\n",
       "      <td>NaN</td>\n",
       "      <td>NaN</td>\n",
       "      <td>23</td>\n",
       "      <td>1</td>\n",
       "      <td>240</td>\n",
       "      <td>10.0</td>\n",
       "      <td>39</td>\n",
       "    </tr>\n",
       "    <tr>\n",
       "      <th>293</th>\n",
       "      <td>Andrew Robertson</td>\n",
       "      <td>26</td>\n",
       "      <td>Liverpool</td>\n",
       "      <td>Defender</td>\n",
       "      <td>Scotland</td>\n",
       "      <td>26.0</td>\n",
       "      <td>153</td>\n",
       "      <td>86</td>\n",
       "      <td>36</td>\n",
       "      <td>4</td>\n",
       "      <td>...</td>\n",
       "      <td>NaN</td>\n",
       "      <td>NaN</td>\n",
       "      <td>NaN</td>\n",
       "      <td>NaN</td>\n",
       "      <td>NaN</td>\n",
       "      <td>20</td>\n",
       "      <td>0</td>\n",
       "      <td>80</td>\n",
       "      <td>11.0</td>\n",
       "      <td>37</td>\n",
       "    </tr>\n",
       "    <tr>\n",
       "      <th>151</th>\n",
       "      <td>Gary Cahill</td>\n",
       "      <td>24</td>\n",
       "      <td>Crystal-Palace</td>\n",
       "      <td>Defender</td>\n",
       "      <td>England</td>\n",
       "      <td>34.0</td>\n",
       "      <td>374</td>\n",
       "      <td>166</td>\n",
       "      <td>126</td>\n",
       "      <td>27</td>\n",
       "      <td>...</td>\n",
       "      <td>NaN</td>\n",
       "      <td>NaN</td>\n",
       "      <td>NaN</td>\n",
       "      <td>NaN</td>\n",
       "      <td>NaN</td>\n",
       "      <td>38</td>\n",
       "      <td>3</td>\n",
       "      <td>266</td>\n",
       "      <td>3.0</td>\n",
       "      <td>37</td>\n",
       "    </tr>\n",
       "  </tbody>\n",
       "</table>\n",
       "<p>5 rows × 60 columns</p>\n",
       "</div>"
      ],
      "text/plain": [
       "                   Name  Jersey Number                  Club  Position  \\\n",
       "504  Branislav Ivanovic             20  West-Bromwich-Albion  Defender   \n",
       "180      Séamus Coleman             23               Everton  Defender   \n",
       "122   César Azpilicueta             28               Chelsea  Defender   \n",
       "293    Andrew Robertson             26             Liverpool  Defender   \n",
       "151         Gary Cahill             24        Crystal-Palace  Defender   \n",
       "\n",
       "    Nationality   Age  Appearances  Wins  Losses  Goals  ...  High Claims  \\\n",
       "504      Serbia  36.0          261   152      50     22  ...          NaN   \n",
       "180     Ireland  31.0          276   114      79     20  ...          NaN   \n",
       "122       Spain  31.0          272   158      56      8  ...          NaN   \n",
       "293    Scotland  26.0          153    86      36      4  ...          NaN   \n",
       "151     England  34.0          374   166     126     27  ...          NaN   \n",
       "\n",
       "     Catches  Sweeper clearances  Throw outs  Goal Kicks  Yellow cards  \\\n",
       "504      NaN                 NaN         NaN         NaN            55   \n",
       "180      NaN                 NaN         NaN         NaN            29   \n",
       "122      NaN                 NaN         NaN         NaN            23   \n",
       "293      NaN                 NaN         NaN         NaN            20   \n",
       "151      NaN                 NaN         NaN         NaN            38   \n",
       "\n",
       "     Red cards  Fouls Offsides  Total chances  \n",
       "504          2    293     18.0             42  \n",
       "180          2    194     29.0             41  \n",
       "122          1    240     10.0             39  \n",
       "293          0     80     11.0             37  \n",
       "151          3    266      3.0             37  \n",
       "\n",
       "[5 rows x 60 columns]"
      ]
     },
     "execution_count": 37,
     "metadata": {},
     "output_type": "execute_result"
    }
   ],
   "source": [
    "#sort out the top 5 players by total chances\n",
    "Defender_data.sort_values(by='Total chances', ascending=False).head()"
   ]
  },
  {
   "cell_type": "markdown",
   "metadata": {},
   "source": [
    "## Analysing Performance by Age"
   ]
  },
  {
   "cell_type": "code",
   "execution_count": 38,
   "metadata": {},
   "outputs": [
    {
     "data": {
      "text/plain": [
       "array([28., 26., 25., 23., 19., 32., 33., 27., 22., 31., 24., 21., 20.,\n",
       "       29., 34., 30., 18., 35., 38., 36., 17., nan])"
      ]
     },
     "execution_count": 38,
     "metadata": {},
     "output_type": "execute_result"
    }
   ],
   "source": [
    "#finding out the unique ages of players in the premier league\n",
    "df['Age'].unique()"
   ]
  },
  {
   "cell_type": "code",
   "execution_count": 39,
   "metadata": {},
   "outputs": [
    {
     "data": {
      "text/plain": [
       "1"
      ]
     },
     "execution_count": 39,
     "metadata": {},
     "output_type": "execute_result"
    }
   ],
   "source": [
    "#checking of there is any null values\n",
    "df['Age'].isnull().sum()"
   ]
  },
  {
   "cell_type": "code",
   "execution_count": 40,
   "metadata": {},
   "outputs": [],
   "source": [
    "#droping the null value from the age column\n",
    "df = df.dropna(subset=['Age'])"
   ]
  },
  {
   "cell_type": "code",
   "execution_count": 41,
   "metadata": {},
   "outputs": [
    {
     "data": {
      "text/plain": [
       "0"
      ]
     },
     "execution_count": 41,
     "metadata": {},
     "output_type": "execute_result"
    }
   ],
   "source": [
    "#checking if the null value is removed\n",
    "df['Age'].isnull().sum()"
   ]
  },
  {
   "cell_type": "code",
   "execution_count": 42,
   "metadata": {},
   "outputs": [],
   "source": [
    "#the values in the age column is float and need to change it as int value\n",
    "df['Age'] = df['Age'].astype(int)"
   ]
  },
  {
   "cell_type": "code",
   "execution_count": 43,
   "metadata": {},
   "outputs": [
    {
     "data": {
      "text/plain": [
       "count    562.000000\n",
       "mean      25.811388\n",
       "std        4.360331\n",
       "min       17.000000\n",
       "25%       22.000000\n",
       "50%       26.000000\n",
       "75%       29.000000\n",
       "max       38.000000\n",
       "Name: Age, dtype: float64"
      ]
     },
     "execution_count": 43,
     "metadata": {},
     "output_type": "execute_result"
    }
   ],
   "source": [
    "#By describing the data would get to know the outline of the age of players.\n",
    "df['Age'].describe()"
   ]
  },
  {
   "cell_type": "code",
   "execution_count": 44,
   "metadata": {},
   "outputs": [
    {
     "data": {
      "text/plain": [
       "<seaborn.axisgrid.FacetGrid at 0x22ea63adea0>"
      ]
     },
     "execution_count": 44,
     "metadata": {},
     "output_type": "execute_result"
    },
    {
     "data": {
      "image/png": "[encoded data removed]",
      "text/plain": [
       "<Figure size 500x500 with 1 Axes>"
      ]
     },
     "metadata": {},
     "output_type": "display_data"
    }
   ],
   "source": [
    "#by this we can understand that it has a bell curve which represent it is a normal distribution.\n",
    "sns.displot(data=df,x='Age')"
   ]
  },
  {
   "cell_type": "code",
   "execution_count": 45,
   "metadata": {},
   "outputs": [
    {
     "data": {
      "text/plain": [
       "array([28, 26, 25, 23, 19, 32, 33, 27, 22, 31, 24, 21, 20, 29, 34, 30, 18,\n",
       "       35, 38, 36, 17])"
      ]
     },
     "execution_count": 45,
     "metadata": {},
     "output_type": "execute_result"
    }
   ],
   "source": [
    "#unique age in the column\n",
    "df['Age'].unique()"
   ]
  },
  {
   "cell_type": "code",
   "execution_count": 52,
   "metadata": {},
   "outputs": [
    {
     "name": "stderr",
     "output_type": "stream",
     "text": [
      "C:\\Users\\91813\\AppData\\Local\\Temp\\ipykernel_29900\\3519655748.py:1: FutureWarning: The provided callable <function mean at 0x0000022EFEFE2B90> is currently using DataFrameGroupBy.mean. In a future version of pandas, the provided callable will be used directly. To keep current behavior pass the string \"mean\" instead.\n",
      "  age_groups = df.pivot_table(index='Age', values=['Goals', 'Assists', 'Total chances'], aggfunc = np.mean)\n"
     ]
    }
   ],
   "source": [
    "#by having a pivot table we can see the goals, assists and Total chances with respect to the age.\n",
    "age_groups = df.pivot_table(index='Age', values=['Goals', 'Assists', 'Total chances'], aggfunc = np.mean)"
   ]
  },
  {
   "cell_type": "code",
   "execution_count": 54,
   "metadata": {},
   "outputs": [
    {
     "data": {
      "text/plain": [
       "<Axes: xlabel='Age'>"
      ]
     },
     "execution_count": 54,
     "metadata": {},
     "output_type": "execute_result"
    },
    {
     "data": {
      "image/png": "[encoded data removed]",
      "text/plain": [
       "<Figure size 2000x1000 with 1 Axes>"
      ]
     },
     "metadata": {},
     "output_type": "display_data"
    }
   ],
   "source": [
    "#plotting the table as a graph\n",
    "age_groups.plot(kind='bar', figsize=(20,10))"
   ]
  },
  {
   "cell_type": "code",
   "execution_count": 59,
   "metadata": {},
   "outputs": [
    {
     "data": {
      "text/plain": [
       "<seaborn.axisgrid.PairGrid at 0x22ea8864ca0>"
      ]
     },
     "execution_count": 59,
     "metadata": {},
     "output_type": "execute_result"
    },
    {
     "data": {
      "image/png": "[encoded data removed]",
      "text/plain": [
       "<Figure size 250x1000 with 4 Axes>"
      ]
     },
     "metadata": {},
     "output_type": "display_data"
    }
   ],
   "source": [
    "sns.pairplot(data=df, x_vars='Wins', y_vars=['Goals', 'Assists', 'Red cards', 'Yellow cards'], kind='scatter')"
   ]
  },
  {
   "cell_type": "code",
   "execution_count": null,
   "metadata": {},
   "outputs": [],
   "source": []
  }
 ],
 "metadata": {
  "kernelspec": {
   "display_name": "Python 3",
   "language": "python",
   "name": "python3"
  },
  "language_info": {
   "codemirror_mode": {
    "name": "ipython",
    "version": 3
   },
   "file_extension": ".py",
   "mimetype": "text/x-python",
   "name": "python",
   "nbconvert_exporter": "python",
   "pygments_lexer": "ipython3",
   "version": "3.10.1"
  }
 },
 "nbformat": 4,
 "nbformat_minor": 2
}
